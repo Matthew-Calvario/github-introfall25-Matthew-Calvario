{
  "cells": [
    {
      "cell_type": "markdown",
      "metadata": {
        "id": "tun1mnJYNbIM"
      },
      "source": [
        "# Python Programming - In-Class Assignment\n"
      ]
    },
    {
      "cell_type": "markdown",
      "metadata": {
        "id": "hJmYSapYNbIY"
      },
      "source": [
        "Import necessary libraries and load the data\n",
        "\n",
        "From kaggle (https://www.kaggle.com/datasets/yasserh/titanic-dataset):\n",
        "The sinking of the Titanic is one of the most infamous shipwrecks in history.\n",
        "\n",
        "On April 15, 1912, during her maiden voyage, the widely considered “unsinkable” RMS Titanic sank after colliding with an iceberg. Unfortunately, there weren't enough lifeboats for everyone on board, resulting in the death ofmore than half of the passengers and crew.\n",
        "\n",
        "While there was some element of luck involved in surviving, it seems some groups of people were more likely to survive than others.\n",
        "\n",
        "This exercise seeks to explore the factors that appeared to influence survival."
      ]
    },
    {
      "cell_type": "code",
      "execution_count": null,
      "metadata": {
        "id": "de41t7OuNbIY"
      },
      "outputs": [],
      "source": [
        "import pandas as pd\n",
        "import matplotlib.pyplot as plt\n",
        "import seaborn as sns\n",
        "import numpy as np\n",
        "\n",
        "# Load the 'titanic' dataset from seaborn\n",
        "titanic_data = sns.load_dataset('titanic')\n",
        "\n",
        "display(titanic_data.head())\n",
        "print(titanic_data.shape)\n"
      ]
    },
    {
      "cell_type": "markdown",
      "metadata": {
        "id": "f__Tq7b-NbIY"
      },
      "source": [
        "Task 1: Calculate overall survival rate.\n",
        "\n",
        "Hint: becausse 'survived' is 0 and 1, survival rate can be computed as the .mean() of that column"
      ]
    },
    {
      "cell_type": "code",
      "execution_count": null,
      "metadata": {
        "id": "GtToebaRNbIY"
      },
      "outputs": [],
      "source": [
        "# Calculate overall survival rate\n"
      ]
    },
    {
      "cell_type": "markdown",
      "metadata": {
        "id": "qNWGU8xyNbIY"
      },
      "source": [
        "Task 2: Calculate and print the survival rates by gender/sex ('sex'), passenger class ('class'), and embarkation point ('embarked'; the location where the journey began).\n",
        "\n",
        "Hint: the material showed us how to filter material, which can work here. Pandas dataframes also offers a convenient function groupby, that will take a one or a list of columns, and group the data by the values of that/those column(s). Operations (such as .mean()) on the returned item will be performed on each group."
      ]
    },
    {
      "cell_type": "code",
      "execution_count": null,
      "metadata": {
        "id": "peIapmZPNbIY"
      },
      "outputs": [],
      "source": [
        "# Calculate survival rates by gender and visualize it\n"
      ]
    },
    {
      "cell_type": "code",
      "execution_count": null,
      "metadata": {
        "id": "vLQx-Zwt9MA7"
      },
      "outputs": [],
      "source": [
        "# Calculate survival rates by passenger class and visualize it\n"
      ]
    },
    {
      "cell_type": "code",
      "execution_count": null,
      "metadata": {
        "id": "Yrf6q3OA9MA7"
      },
      "outputs": [],
      "source": [
        "# Calculate survival rates by embarkation point and visualize it\n"
      ]
    },
    {
      "cell_type": "markdown",
      "metadata": {
        "id": "LwZODKUPNbIY"
      },
      "source": [
        "Task 3: Calculate the survival rate by age group (under 12 as child, 13-20 as teen, 21-40 as adult, 41-60 as middle-aged, above 61 as senior)."
      ]
    },
    {
      "cell_type": "code",
      "execution_count": null,
      "metadata": {
        "id": "wkbNlpsGNbIY"
      },
      "outputs": [],
      "source": [
        "# create a new column age_group based on the criteria above\n",
        "\n",
        "\n",
        "# Calculate survival rates by age group\n",
        "\n"
      ]
    },
    {
      "cell_type": "markdown",
      "metadata": {
        "id": "lmeLDWyZNbIY"
      },
      "source": [
        "Task 4: Create a box plot for age distribution by survival."
      ]
    },
    {
      "cell_type": "code",
      "execution_count": null,
      "metadata": {
        "id": "EN3VsDYwNbIY"
      },
      "outputs": [],
      "source": [
        "# Create a box plot for age distribution by survival\n"
      ]
    },
    {
      "cell_type": "markdown",
      "metadata": {
        "id": "6d9d7wOFNbIY"
      },
      "source": [
        "Task 5: Create a stacked bar chart to visualize the distribution of Titanic passengers by class, using different colors to represent survival status within each class.\n",
        "Hint: try creating a comment to do this one and use the AI to help. What is this code doing?"
      ]
    },
    {
      "cell_type": "code",
      "execution_count": null,
      "metadata": {
        "id": "Vw4QqZGHNbIY"
      },
      "outputs": [],
      "source": [
        "import matplotlib.pyplot as plt\n",
        "\n",
        "# Create a stacked bar chart to visualize the distribution of Titanic passengers by class\n"
      ]
    },
    {
      "cell_type": "markdown",
      "metadata": {
        "id": "nrEn4MQJNbIZ"
      },
      "source": [
        "**Open-Ended Questions:** From our analysis, some more in-depth questions can be raised. Please discuss and attempt to answer them by using Python to perform data analysis and visualizations to support your claims. Keep in mind that there are no definitive answers to these questions.\n",
        "\n",
        "Question 1: Given, from task 2, the survival rates by embarkation point are as follows:\n",
        "\n",
        "| Embarkation Point | Survival Rate (%) |\n",
        "|-------------------|--------------------|\n",
        "| C                 | 55.36              |\n",
        "| Q                 | 38.96              |\n",
        "| S                 | 33.70              |\n",
        "\n",
        "does this indicate that, if you will be on the Titanic, better to select Port C as your embarkation point for increasing the chances of survival?"
      ]
    },
    {
      "cell_type": "markdown",
      "metadata": {
        "id": "BhwHqjQDNbIZ"
      },
      "source": [
        "**Your Q1 discussion here:**"
      ]
    },
    {
      "cell_type": "code",
      "execution_count": null,
      "metadata": {
        "id": "fEh7nX3C9MA8"
      },
      "outputs": [],
      "source": [
        "# Optional: if you have code to support your Q1 discussion, please add it here.\n"
      ]
    },
    {
      "cell_type": "markdown",
      "metadata": {
        "id": "h7dmtTP9NbIZ"
      },
      "source": [
        "Question 2: Given, from task 3, the survival rates by age group are as follows:\n",
        "\n",
        "| Age Group | Survival Rate (%) |\n",
        "|-----------|--------------------|\n",
        "| Child     | 57.97              |\n",
        "| Teen      | 38.18              |\n",
        "| Adult     | 39.74              |\n",
        "| Middle-Aged| 39.06              |\n",
        "| Senior    | 22.73              |\n",
        "\n",
        "Does this indicate that senior passengers were less taken care of?\n",
        "\n"
      ]
    },
    {
      "cell_type": "markdown",
      "metadata": {
        "id": "D5Tg27V6NbIZ"
      },
      "source": [
        "**Your Q2 discussion here:**"
      ]
    },
    {
      "cell_type": "code",
      "execution_count": null,
      "metadata": {
        "id": "1_DxY-Wo9MA9"
      },
      "outputs": [],
      "source": [
        "# Optional: if you have code to support your Q2 discussion, please add it here.\n"
      ]
    },
    {
      "cell_type": "markdown",
      "source": [
        "When you are done, make sure to submit your assignments in accordance with the instructions on canvas."
      ],
      "metadata": {
        "id": "EgIxGBHR95zz"
      }
    }
  ],
  "metadata": {
    "colab": {
      "provenance": []
    },
    "kernelspec": {
      "display_name": "audio",
      "language": "python",
      "name": "python3"
    },
    "language_info": {
      "codemirror_mode": {
        "name": "ipython",
        "version": 3
      },
      "file_extension": ".py",
      "mimetype": "text/x-python",
      "name": "python",
      "nbconvert_exporter": "python",
      "pygments_lexer": "ipython3",
      "version": "3.9.7"
    }
  },
  "nbformat": 4,
  "nbformat_minor": 0
}